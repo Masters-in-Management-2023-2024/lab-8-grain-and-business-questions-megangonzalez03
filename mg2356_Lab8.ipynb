{
  "nbformat": 4,
  "nbformat_minor": 0,
  "metadata": {
    "colab": {
      "provenance": []
    },
    "kernelspec": {
      "name": "python3",
      "display_name": "Python 3"
    },
    "language_info": {
      "name": "python"
    }
  },
  "cells": [
    {
      "cell_type": "code",
      "execution_count": null,
      "metadata": {
        "colab": {
          "base_uri": "https://localhost:8080/"
        },
        "id": "5aKwaM6ez21K",
        "outputId": "14bf41e0-3315-4510-a8dd-e3a8010f2296"
      },
      "outputs": [
        {
          "output_type": "stream",
          "name": "stdout",
          "text": [
            "Loading diamonds dataset...\n",
            "Dataset loaded successfully!\n"
          ]
        }
      ],
      "source": [
        "import polars as pl\n",
        "\n",
        "# Load the diamonds dataset\n",
        "print(\"Loading diamonds dataset...\")\n",
        "df = pl.read_csv('https://raw.githubusercontent.com/pycaret/pycaret/master/datasets/diamond.csv')\n",
        "print(\"Dataset loaded successfully!\")"
      ]
    },
    {
      "cell_type": "code",
      "source": [
        "# Question 1: \"How extensive is our inventory database\"\n",
        "\n",
        "print(f\"Shape: {df.shape}\")\n",
        "print(f\"Columns: {df.columns}\")"
      ],
      "metadata": {
        "colab": {
          "base_uri": "https://localhost:8080/"
        },
        "id": "d-ykmBxs0GIC",
        "outputId": "edcba713-4f0a-4fd9-ff4a-4b68f9da5ba1"
      },
      "execution_count": null,
      "outputs": [
        {
          "output_type": "stream",
          "name": "stdout",
          "text": [
            "Shape: (6000, 8)\n",
            "Columns: ['Carat Weight', 'Cut', 'Color', 'Clarity', 'Polish', 'Symmetry', 'Report', 'Price']\n"
          ]
        }
      ]
    },
    {
      "cell_type": "code",
      "source": [
        "# Question 2: \"What information do we track about each diamond\"\n",
        "\n",
        "print(f\"Total number of rows: {len(df)}\")\n",
        "print(\"\\nEach row represents: ONE DIAMOND\")\n",
        "print(\"This is our current grain: diamond-level data\")"
      ],
      "metadata": {
        "colab": {
          "base_uri": "https://localhost:8080/"
        },
        "id": "n-A8JgB00XpK",
        "outputId": "e5c1b0e6-60b6-48dd-de05-0738095c86b2"
      },
      "execution_count": null,
      "outputs": [
        {
          "output_type": "stream",
          "name": "stdout",
          "text": [
            "Total number of rows: 6000\n",
            "\n",
            "Each row represents: ONE DIAMOND\n",
            "This is our current grain: diamond-level data\n"
          ]
        }
      ]
    },
    {
      "cell_type": "code",
      "source": [
        "# Question 3: \"When I look at one line in this databasae, what am I looking at?\"\n",
        "\n",
        "print(\"Each row represents: ONE DIAMOND\")"
      ],
      "metadata": {
        "colab": {
          "base_uri": "https://localhost:8080/"
        },
        "id": "KwlUkmGe0sCt",
        "outputId": "507a9173-ae7b-4ffe-f268-3fde9b48e980"
      },
      "execution_count": null,
      "outputs": [
        {
          "output_type": "stream",
          "name": "stdout",
          "text": [
            "Each row represents: ONE DIAMOND\n"
          ]
        }
      ]
    },
    {
      "cell_type": "code",
      "source": [
        "# Question 4: \"We're considering expanding our storage facilities. How many total carats do we have in inventory? I need to know if our valuts can handle the weight.\"\n",
        "\n",
        "print(f\"Total number of carats: {df['Carat Weight'].sum()}\")"
      ],
      "metadata": {
        "colab": {
          "base_uri": "https://localhost:8080/"
        },
        "id": "XLcNWUYM03Si",
        "outputId": "87d508ca-7904-45f4-8238-eb3a4589e77d"
      },
      "execution_count": null,
      "outputs": [
        {
          "output_type": "stream",
          "name": "stdout",
          "text": [
            "Total number of carats: 8007.120000000001\n"
          ]
        }
      ]
    },
    {
      "cell_type": "code",
      "source": [
        "# Question 5: \"Our new marketing campaign claims we have 'the widest variety of cuts in the industry.' Can you verify this?\"\n",
        "\n",
        "print(f\"The widest variety of cuts in the industry: {df['Cut'].value_counts()}\")"
      ],
      "metadata": {
        "colab": {
          "base_uri": "https://localhost:8080/"
        },
        "id": "ECxiWUza1Swy",
        "outputId": "034613f5-f41b-45f4-f159-7b4f2ea6ad5e"
      },
      "execution_count": null,
      "outputs": [
        {
          "output_type": "stream",
          "name": "stdout",
          "text": [
            "The widest variety of cuts in the industry: shape: (5, 2)\n",
            "┌─────────────────┬───────┐\n",
            "│ Cut             ┆ count │\n",
            "│ ---             ┆ ---   │\n",
            "│ str             ┆ u32   │\n",
            "╞═════════════════╪═══════╡\n",
            "│ Very Good       ┆ 2428  │\n",
            "│ Signature-Ideal ┆ 253   │\n",
            "│ Ideal           ┆ 2482  │\n",
            "│ Fair            ┆ 129   │\n",
            "│ Good            ┆ 708   │\n",
            "└─────────────────┴───────┘\n"
          ]
        }
      ]
    },
    {
      "cell_type": "code",
      "source": [
        "# Question 6: \"I'm meeting with our insurance company. They need to know our price exposure - what's our most and least valuable diamond?\"\n",
        "\n",
        "print(f\"Most valuable diamond: {df.sort('Price', descending=True).head(1)}\")\n",
        "print(f\"Least valuable diamond: {df.sort('Price', descending=False).head(1)}\")"
      ],
      "metadata": {
        "colab": {
          "base_uri": "https://localhost:8080/"
        },
        "id": "384SQ8pw1etd",
        "outputId": "dface886-2285-42b7-d722-80c5c6b79571"
      },
      "execution_count": null,
      "outputs": [
        {
          "output_type": "stream",
          "name": "stdout",
          "text": [
            "Most valuable diamond: shape: (1, 8)\n",
            "┌──────────────┬───────┬───────┬─────────┬────────┬──────────┬────────┬────────┐\n",
            "│ Carat Weight ┆ Cut   ┆ Color ┆ Clarity ┆ Polish ┆ Symmetry ┆ Report ┆ Price  │\n",
            "│ ---          ┆ ---   ┆ ---   ┆ ---     ┆ ---    ┆ ---      ┆ ---    ┆ ---    │\n",
            "│ f64          ┆ str   ┆ str   ┆ str     ┆ str    ┆ str      ┆ str    ┆ i64    │\n",
            "╞══════════════╪═══════╪═══════╪═════════╪════════╪══════════╪════════╪════════╡\n",
            "│ 2.79         ┆ Ideal ┆ D     ┆ IF      ┆ EX     ┆ EX       ┆ GIA    ┆ 101561 │\n",
            "└──────────────┴───────┴───────┴─────────┴────────┴──────────┴────────┴────────┘\n",
            "Least valuable diamond: shape: (1, 8)\n",
            "┌──────────────┬──────┬───────┬─────────┬────────┬──────────┬────────┬───────┐\n",
            "│ Carat Weight ┆ Cut  ┆ Color ┆ Clarity ┆ Polish ┆ Symmetry ┆ Report ┆ Price │\n",
            "│ ---          ┆ ---  ┆ ---   ┆ ---     ┆ ---    ┆ ---      ┆ ---    ┆ ---   │\n",
            "│ f64          ┆ str  ┆ str   ┆ str     ┆ str    ┆ str      ┆ str    ┆ i64   │\n",
            "╞══════════════╪══════╪═══════╪═════════╪════════╪══════════╪════════╪═══════╡\n",
            "│ 0.77         ┆ Good ┆ I     ┆ VS1     ┆ VG     ┆ G        ┆ AGSL   ┆ 2184  │\n",
            "└──────────────┴──────┴───────┴─────────┴────────┴──────────┴────────┴───────┘\n"
          ]
        }
      ]
    },
    {
      "cell_type": "code",
      "source": [
        "# Question 7: \"Which color grades should we focus on in our premium line? I need typical prices across our color spectrum.\"\n",
        "\n",
        "import polars as pl\n",
        "\n",
        "from google.colab import files\n",
        "uploaded = files.upload()\n",
        "\n",
        "diamonds = pl.read_csv(\"diamonds.csv\")\n",
        "\n",
        "summary = diamonds.group_by(\"color\").agg([\n",
        "    pl.col(\"price\").mean().alias(\"avg_price\"),\n",
        "    pl.col(\"price\").median().alias(\"median_price\"),\n",
        "    pl.col(\"price\").count().alias(\"count\")\n",
        "]).sort(\"median_price\", descending=True)\n",
        "\n",
        "summary"
      ],
      "metadata": {
        "colab": {
          "base_uri": "https://localhost:8080/",
          "height": 374
        },
        "id": "Stmrc09XePkp",
        "outputId": "a0c214d5-0c11-4d0d-aa63-2dab84416297"
      },
      "execution_count": null,
      "outputs": [
        {
          "output_type": "display_data",
          "data": {
            "text/plain": [
              "<IPython.core.display.HTML object>"
            ],
            "text/html": [
              "\n",
              "     <input type=\"file\" id=\"files-ab4cc270-8b34-44a0-aef2-23d951ca9a96\" name=\"files[]\" multiple disabled\n",
              "        style=\"border:none\" />\n",
              "     <output id=\"result-ab4cc270-8b34-44a0-aef2-23d951ca9a96\">\n",
              "      Upload widget is only available when the cell has been executed in the\n",
              "      current browser session. Please rerun this cell to enable.\n",
              "      </output>\n",
              "      <script>// Copyright 2017 Google LLC\n",
              "//\n",
              "// Licensed under the Apache License, Version 2.0 (the \"License\");\n",
              "// you may not use this file except in compliance with the License.\n",
              "// You may obtain a copy of the License at\n",
              "//\n",
              "//      http://www.apache.org/licenses/LICENSE-2.0\n",
              "//\n",
              "// Unless required by applicable law or agreed to in writing, software\n",
              "// distributed under the License is distributed on an \"AS IS\" BASIS,\n",
              "// WITHOUT WARRANTIES OR CONDITIONS OF ANY KIND, either express or implied.\n",
              "// See the License for the specific language governing permissions and\n",
              "// limitations under the License.\n",
              "\n",
              "/**\n",
              " * @fileoverview Helpers for google.colab Python module.\n",
              " */\n",
              "(function(scope) {\n",
              "function span(text, styleAttributes = {}) {\n",
              "  const element = document.createElement('span');\n",
              "  element.textContent = text;\n",
              "  for (const key of Object.keys(styleAttributes)) {\n",
              "    element.style[key] = styleAttributes[key];\n",
              "  }\n",
              "  return element;\n",
              "}\n",
              "\n",
              "// Max number of bytes which will be uploaded at a time.\n",
              "const MAX_PAYLOAD_SIZE = 100 * 1024;\n",
              "\n",
              "function _uploadFiles(inputId, outputId) {\n",
              "  const steps = uploadFilesStep(inputId, outputId);\n",
              "  const outputElement = document.getElementById(outputId);\n",
              "  // Cache steps on the outputElement to make it available for the next call\n",
              "  // to uploadFilesContinue from Python.\n",
              "  outputElement.steps = steps;\n",
              "\n",
              "  return _uploadFilesContinue(outputId);\n",
              "}\n",
              "\n",
              "// This is roughly an async generator (not supported in the browser yet),\n",
              "// where there are multiple asynchronous steps and the Python side is going\n",
              "// to poll for completion of each step.\n",
              "// This uses a Promise to block the python side on completion of each step,\n",
              "// then passes the result of the previous step as the input to the next step.\n",
              "function _uploadFilesContinue(outputId) {\n",
              "  const outputElement = document.getElementById(outputId);\n",
              "  const steps = outputElement.steps;\n",
              "\n",
              "  const next = steps.next(outputElement.lastPromiseValue);\n",
              "  return Promise.resolve(next.value.promise).then((value) => {\n",
              "    // Cache the last promise value to make it available to the next\n",
              "    // step of the generator.\n",
              "    outputElement.lastPromiseValue = value;\n",
              "    return next.value.response;\n",
              "  });\n",
              "}\n",
              "\n",
              "/**\n",
              " * Generator function which is called between each async step of the upload\n",
              " * process.\n",
              " * @param {string} inputId Element ID of the input file picker element.\n",
              " * @param {string} outputId Element ID of the output display.\n",
              " * @return {!Iterable<!Object>} Iterable of next steps.\n",
              " */\n",
              "function* uploadFilesStep(inputId, outputId) {\n",
              "  const inputElement = document.getElementById(inputId);\n",
              "  inputElement.disabled = false;\n",
              "\n",
              "  const outputElement = document.getElementById(outputId);\n",
              "  outputElement.innerHTML = '';\n",
              "\n",
              "  const pickedPromise = new Promise((resolve) => {\n",
              "    inputElement.addEventListener('change', (e) => {\n",
              "      resolve(e.target.files);\n",
              "    });\n",
              "  });\n",
              "\n",
              "  const cancel = document.createElement('button');\n",
              "  inputElement.parentElement.appendChild(cancel);\n",
              "  cancel.textContent = 'Cancel upload';\n",
              "  const cancelPromise = new Promise((resolve) => {\n",
              "    cancel.onclick = () => {\n",
              "      resolve(null);\n",
              "    };\n",
              "  });\n",
              "\n",
              "  // Wait for the user to pick the files.\n",
              "  const files = yield {\n",
              "    promise: Promise.race([pickedPromise, cancelPromise]),\n",
              "    response: {\n",
              "      action: 'starting',\n",
              "    }\n",
              "  };\n",
              "\n",
              "  cancel.remove();\n",
              "\n",
              "  // Disable the input element since further picks are not allowed.\n",
              "  inputElement.disabled = true;\n",
              "\n",
              "  if (!files) {\n",
              "    return {\n",
              "      response: {\n",
              "        action: 'complete',\n",
              "      }\n",
              "    };\n",
              "  }\n",
              "\n",
              "  for (const file of files) {\n",
              "    const li = document.createElement('li');\n",
              "    li.append(span(file.name, {fontWeight: 'bold'}));\n",
              "    li.append(span(\n",
              "        `(${file.type || 'n/a'}) - ${file.size} bytes, ` +\n",
              "        `last modified: ${\n",
              "            file.lastModifiedDate ? file.lastModifiedDate.toLocaleDateString() :\n",
              "                                    'n/a'} - `));\n",
              "    const percent = span('0% done');\n",
              "    li.appendChild(percent);\n",
              "\n",
              "    outputElement.appendChild(li);\n",
              "\n",
              "    const fileDataPromise = new Promise((resolve) => {\n",
              "      const reader = new FileReader();\n",
              "      reader.onload = (e) => {\n",
              "        resolve(e.target.result);\n",
              "      };\n",
              "      reader.readAsArrayBuffer(file);\n",
              "    });\n",
              "    // Wait for the data to be ready.\n",
              "    let fileData = yield {\n",
              "      promise: fileDataPromise,\n",
              "      response: {\n",
              "        action: 'continue',\n",
              "      }\n",
              "    };\n",
              "\n",
              "    // Use a chunked sending to avoid message size limits. See b/62115660.\n",
              "    let position = 0;\n",
              "    do {\n",
              "      const length = Math.min(fileData.byteLength - position, MAX_PAYLOAD_SIZE);\n",
              "      const chunk = new Uint8Array(fileData, position, length);\n",
              "      position += length;\n",
              "\n",
              "      const base64 = btoa(String.fromCharCode.apply(null, chunk));\n",
              "      yield {\n",
              "        response: {\n",
              "          action: 'append',\n",
              "          file: file.name,\n",
              "          data: base64,\n",
              "        },\n",
              "      };\n",
              "\n",
              "      let percentDone = fileData.byteLength === 0 ?\n",
              "          100 :\n",
              "          Math.round((position / fileData.byteLength) * 100);\n",
              "      percent.textContent = `${percentDone}% done`;\n",
              "\n",
              "    } while (position < fileData.byteLength);\n",
              "  }\n",
              "\n",
              "  // All done.\n",
              "  yield {\n",
              "    response: {\n",
              "      action: 'complete',\n",
              "    }\n",
              "  };\n",
              "}\n",
              "\n",
              "scope.google = scope.google || {};\n",
              "scope.google.colab = scope.google.colab || {};\n",
              "scope.google.colab._files = {\n",
              "  _uploadFiles,\n",
              "  _uploadFilesContinue,\n",
              "};\n",
              "})(self);\n",
              "</script> "
            ]
          },
          "metadata": {}
        },
        {
          "output_type": "stream",
          "name": "stdout",
          "text": [
            "Saving diamonds.csv to diamonds (2).csv\n"
          ]
        },
        {
          "output_type": "execute_result",
          "data": {
            "text/plain": [
              "shape: (7, 4)\n",
              "┌───────┬─────────────┬──────────────┬───────┐\n",
              "│ color ┆ avg_price   ┆ median_price ┆ count │\n",
              "│ ---   ┆ ---         ┆ ---          ┆ ---   │\n",
              "│ str   ┆ f64         ┆ f64          ┆ u32   │\n",
              "╞═══════╪═════════════╪══════════════╪═══════╡\n",
              "│ J     ┆ 5323.81802  ┆ 4234.0       ┆ 2808  │\n",
              "│ I     ┆ 5091.874954 ┆ 3730.0       ┆ 5422  │\n",
              "│ H     ┆ 4486.669196 ┆ 3460.0       ┆ 8304  │\n",
              "│ F     ┆ 3724.886397 ┆ 2343.5       ┆ 9542  │\n",
              "│ G     ┆ 3999.135671 ┆ 2242.0       ┆ 11292 │\n",
              "│ D     ┆ 3169.954096 ┆ 1838.0       ┆ 6775  │\n",
              "│ E     ┆ 3076.752475 ┆ 1739.0       ┆ 9797  │\n",
              "└───────┴─────────────┴──────────────┴───────┘"
            ],
            "text/html": [
              "<div><style>\n",
              ".dataframe > thead > tr,\n",
              ".dataframe > tbody > tr {\n",
              "  text-align: right;\n",
              "  white-space: pre-wrap;\n",
              "}\n",
              "</style>\n",
              "<small>shape: (7, 4)</small><table border=\"1\" class=\"dataframe\"><thead><tr><th>color</th><th>avg_price</th><th>median_price</th><th>count</th></tr><tr><td>str</td><td>f64</td><td>f64</td><td>u32</td></tr></thead><tbody><tr><td>&quot;J&quot;</td><td>5323.81802</td><td>4234.0</td><td>2808</td></tr><tr><td>&quot;I&quot;</td><td>5091.874954</td><td>3730.0</td><td>5422</td></tr><tr><td>&quot;H&quot;</td><td>4486.669196</td><td>3460.0</td><td>8304</td></tr><tr><td>&quot;F&quot;</td><td>3724.886397</td><td>2343.5</td><td>9542</td></tr><tr><td>&quot;G&quot;</td><td>3999.135671</td><td>2242.0</td><td>11292</td></tr><tr><td>&quot;D&quot;</td><td>3169.954096</td><td>1838.0</td><td>6775</td></tr><tr><td>&quot;E&quot;</td><td>3076.752475</td><td>1739.0</td><td>9797</td></tr></tbody></table></div>"
            ]
          },
          "metadata": {},
          "execution_count": 11
        }
      ]
    },
    {
      "cell_type": "code",
      "source": [
        "# Question 8: \"We're thinking of specializing in certain clarity grades. For our investor deck, I need a complete breakdown showing: how many diamonds we have in each clarity grade, their typical price, and the total carats we're holding for each grade.\"\n",
        "\n",
        "clarity_summary = diamonds.group_by(\"clarity\").agg([\n",
        "    pl.count().alias(\"diamond_count\"),\n",
        "    pl.col(\"price\").median().alias(\"median_price\"),\n",
        "    pl.col(\"carat\").sum().alias(\"total_carat\")\n",
        "]).sort(\"median_price\", descending=True)\n",
        "\n",
        "clarity_summary"
      ],
      "metadata": {
        "colab": {
          "base_uri": "https://localhost:8080/",
          "height": 405
        },
        "id": "s3cD1mdafAIu",
        "outputId": "6e31561a-372c-4ad2-8025-eb973b46fa42"
      },
      "execution_count": null,
      "outputs": [
        {
          "output_type": "stream",
          "name": "stderr",
          "text": [
            "/tmp/ipython-input-3994311611.py:4: DeprecationWarning: `pl.count()` is deprecated. Please use `pl.len()` instead.\n",
            "  pl.count().alias(\"diamond_count\"),\n"
          ]
        },
        {
          "output_type": "execute_result",
          "data": {
            "text/plain": [
              "shape: (8, 4)\n",
              "┌─────────┬───────────────┬──────────────┬─────────────┐\n",
              "│ clarity ┆ diamond_count ┆ median_price ┆ total_carat │\n",
              "│ ---     ┆ ---           ┆ ---          ┆ ---         │\n",
              "│ str     ┆ u32           ┆ f64          ┆ f64         │\n",
              "╞═════════╪═══════════════╪══════════════╪═════════════╡\n",
              "│ SI2     ┆ 9194          ┆ 4072.0       ┆ 9907.9      │\n",
              "│ I1      ┆ 741           ┆ 3344.0       ┆ 951.33      │\n",
              "│ SI1     ┆ 13065         ┆ 2822.0       ┆ 11111.55    │\n",
              "│ VS2     ┆ 12258         ┆ 2054.0       ┆ 9364.31     │\n",
              "│ VS1     ┆ 8171          ┆ 2005.0       ┆ 5941.61     │\n",
              "│ VVS2    ┆ 5066          ┆ 1311.0       ┆ 3020.36     │\n",
              "│ VVS1    ┆ 3655          ┆ 1093.0       ┆ 1839.64     │\n",
              "│ IF      ┆ 1790          ┆ 1080.0       ┆ 904.17      │\n",
              "└─────────┴───────────────┴──────────────┴─────────────┘"
            ],
            "text/html": [
              "<div><style>\n",
              ".dataframe > thead > tr,\n",
              ".dataframe > tbody > tr {\n",
              "  text-align: right;\n",
              "  white-space: pre-wrap;\n",
              "}\n",
              "</style>\n",
              "<small>shape: (8, 4)</small><table border=\"1\" class=\"dataframe\"><thead><tr><th>clarity</th><th>diamond_count</th><th>median_price</th><th>total_carat</th></tr><tr><td>str</td><td>u32</td><td>f64</td><td>f64</td></tr></thead><tbody><tr><td>&quot;SI2&quot;</td><td>9194</td><td>4072.0</td><td>9907.9</td></tr><tr><td>&quot;I1&quot;</td><td>741</td><td>3344.0</td><td>951.33</td></tr><tr><td>&quot;SI1&quot;</td><td>13065</td><td>2822.0</td><td>11111.55</td></tr><tr><td>&quot;VS2&quot;</td><td>12258</td><td>2054.0</td><td>9364.31</td></tr><tr><td>&quot;VS1&quot;</td><td>8171</td><td>2005.0</td><td>5941.61</td></tr><tr><td>&quot;VVS2&quot;</td><td>5066</td><td>1311.0</td><td>3020.36</td></tr><tr><td>&quot;VVS1&quot;</td><td>3655</td><td>1093.0</td><td>1839.64</td></tr><tr><td>&quot;IF&quot;</td><td>1790</td><td>1080.0</td><td>904.17</td></tr></tbody></table></div>"
            ]
          },
          "metadata": {},
          "execution_count": 12
        }
      ]
    },
    {
      "cell_type": "code",
      "source": [
        "# Question 9: \"My luxury competitor claims they have the best prices for every cut-color combination. Show me our pricing structure across these combinations - I want to see where we're competitive.\"\n",
        "\n",
        "pricing_structure = diamonds.group_by([\"cut\", \"color\"]).agg([\n",
        "    pl.col(\"price\").median().alias(\"median_price\"),\n",
        "    pl.count().alias(\"count\")  # Optional: to show how many diamonds are in each group\n",
        "]).sort([\"cut\", \"color\"])\n",
        "\n",
        "pricing_structure"
      ],
      "metadata": {
        "colab": {
          "base_uri": "https://localhost:8080/",
          "height": 499
        },
        "id": "a6yJS041fMMW",
        "outputId": "ef844122-db26-4a45-80f3-2695cb450fa2"
      },
      "execution_count": null,
      "outputs": [
        {
          "output_type": "stream",
          "name": "stderr",
          "text": [
            "/tmp/ipython-input-1274514285.py:5: DeprecationWarning: `pl.count()` is deprecated. Please use `pl.len()` instead.\n",
            "  pl.count().alias(\"count\")  # Optional: to show how many diamonds are in each group\n"
          ]
        },
        {
          "output_type": "execute_result",
          "data": {
            "text/plain": [
              "shape: (35, 4)\n",
              "┌───────────┬───────┬──────────────┬───────┐\n",
              "│ cut       ┆ color ┆ median_price ┆ count │\n",
              "│ ---       ┆ ---   ┆ ---          ┆ ---   │\n",
              "│ str       ┆ str   ┆ f64          ┆ u32   │\n",
              "╞═══════════╪═══════╪══════════════╪═══════╡\n",
              "│ Fair      ┆ D     ┆ 3730.0       ┆ 163   │\n",
              "│ Fair      ┆ E     ┆ 2956.0       ┆ 224   │\n",
              "│ Fair      ┆ F     ┆ 3035.0       ┆ 312   │\n",
              "│ Fair      ┆ G     ┆ 3057.0       ┆ 314   │\n",
              "│ Fair      ┆ H     ┆ 3816.0       ┆ 303   │\n",
              "│ …         ┆ …     ┆ …            ┆ …     │\n",
              "│ Very Good ┆ F     ┆ 2471.0       ┆ 2164  │\n",
              "│ Very Good ┆ G     ┆ 2437.0       ┆ 2299  │\n",
              "│ Very Good ┆ H     ┆ 3734.0       ┆ 1824  │\n",
              "│ Very Good ┆ I     ┆ 3888.0       ┆ 1204  │\n",
              "│ Very Good ┆ J     ┆ 4113.0       ┆ 678   │\n",
              "└───────────┴───────┴──────────────┴───────┘"
            ],
            "text/html": [
              "<div><style>\n",
              ".dataframe > thead > tr,\n",
              ".dataframe > tbody > tr {\n",
              "  text-align: right;\n",
              "  white-space: pre-wrap;\n",
              "}\n",
              "</style>\n",
              "<small>shape: (35, 4)</small><table border=\"1\" class=\"dataframe\"><thead><tr><th>cut</th><th>color</th><th>median_price</th><th>count</th></tr><tr><td>str</td><td>str</td><td>f64</td><td>u32</td></tr></thead><tbody><tr><td>&quot;Fair&quot;</td><td>&quot;D&quot;</td><td>3730.0</td><td>163</td></tr><tr><td>&quot;Fair&quot;</td><td>&quot;E&quot;</td><td>2956.0</td><td>224</td></tr><tr><td>&quot;Fair&quot;</td><td>&quot;F&quot;</td><td>3035.0</td><td>312</td></tr><tr><td>&quot;Fair&quot;</td><td>&quot;G&quot;</td><td>3057.0</td><td>314</td></tr><tr><td>&quot;Fair&quot;</td><td>&quot;H&quot;</td><td>3816.0</td><td>303</td></tr><tr><td>&hellip;</td><td>&hellip;</td><td>&hellip;</td><td>&hellip;</td></tr><tr><td>&quot;Very Good&quot;</td><td>&quot;F&quot;</td><td>2471.0</td><td>2164</td></tr><tr><td>&quot;Very Good&quot;</td><td>&quot;G&quot;</td><td>2437.0</td><td>2299</td></tr><tr><td>&quot;Very Good&quot;</td><td>&quot;H&quot;</td><td>3734.0</td><td>1824</td></tr><tr><td>&quot;Very Good&quot;</td><td>&quot;I&quot;</td><td>3888.0</td><td>1204</td></tr><tr><td>&quot;Very Good&quot;</td><td>&quot;J&quot;</td><td>4113.0</td><td>678</td></tr></tbody></table></div>"
            ]
          },
          "metadata": {},
          "execution_count": 13
        }
      ]
    },
    {
      "cell_type": "code",
      "source": [
        "# Question 10: \"Our biggest client is interested in purchasing entire inventory segments. They asked: 'Which color-cut combinations represent your highest total inventory value?' Show me the top 5 most valuable inventory segments by total worth, and include how many diamonds are in each segment.\"\n",
        "\n",
        "top_segments = (\n",
        "    diamonds\n",
        "    .group_by([\"color\", \"cut\"])\n",
        "    .agg([\n",
        "        pl.col(\"price\").sum().alias(\"total_value\"),\n",
        "        pl.col(\"price\").count().alias(\"diamond_count\")\n",
        "    ])\n",
        "    .sort(\"total_value\", descending=True)\n",
        "    .head(5)\n",
        ")\n",
        "\n",
        "print(top_segments)"
      ],
      "metadata": {
        "colab": {
          "base_uri": "https://localhost:8080/"
        },
        "id": "GAh4BHE6fUwS",
        "outputId": "c25b98f5-0aa8-4f18-92d3-89d39c15a175"
      },
      "execution_count": null,
      "outputs": [
        {
          "output_type": "stream",
          "name": "stdout",
          "text": [
            "shape: (5, 4)\n",
            "┌───────┬─────────┬─────────────┬───────────────┐\n",
            "│ color ┆ cut     ┆ total_value ┆ diamond_count │\n",
            "│ ---   ┆ ---     ┆ ---         ┆ ---           │\n",
            "│ str   ┆ str     ┆ i64         ┆ u32           │\n",
            "╞═══════╪═════════╪═════════════╪═══════════════╡\n",
            "│ G     ┆ Ideal   ┆ 18171930    ┆ 4884          │\n",
            "│ G     ┆ Premium ┆ 13160170    ┆ 2924          │\n",
            "│ F     ┆ Ideal   ┆ 12912518    ┆ 3826          │\n",
            "│ H     ┆ Premium ┆ 12311428    ┆ 2360          │\n",
            "│ H     ┆ Ideal   ┆ 12115278    ┆ 3115          │\n",
            "└───────┴─────────┴─────────────┴───────────────┘\n"
          ]
        }
      ]
    }
  ]
}